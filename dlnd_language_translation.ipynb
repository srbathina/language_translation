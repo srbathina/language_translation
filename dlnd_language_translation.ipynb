{
 "cells": [
  {
   "cell_type": "markdown",
   "metadata": {
    "collapsed": true
   },
   "source": [
    "# Language Translation\n",
    "In this project, you’re going to take a peek into the realm of neural network machine translation.  You’ll be training a sequence to sequence model on a dataset of English and French sentences that can translate new sentences from English to French.\n",
    "## Get the Data\n",
    "Since translating the whole language of English to French will take lots of time to train, we have provided you with a small portion of the English corpus."
   ]
  },
  {
   "cell_type": "code",
   "execution_count": 73,
   "metadata": {
    "collapsed": true
   },
   "outputs": [],
   "source": [
    "\"\"\"\n",
    "DON'T MODIFY ANYTHING IN THIS CELL\n",
    "\"\"\"\n",
    "import helper\n",
    "import problem_unittests as tests\n",
    "\n",
    "source_path = 'data/small_vocab_en'\n",
    "target_path = 'data/small_vocab_fr'\n",
    "source_text = helper.load_data(source_path)\n",
    "target_text = helper.load_data(target_path)"
   ]
  },
  {
   "cell_type": "markdown",
   "metadata": {},
   "source": [
    "## Explore the Data\n",
    "Play around with view_sentence_range to view different parts of the data."
   ]
  },
  {
   "cell_type": "code",
   "execution_count": 74,
   "metadata": {},
   "outputs": [
    {
     "name": "stdout",
     "output_type": "stream",
     "text": [
      "Dataset Stats\n",
      "Roughly the number of unique words: 227\n",
      "Number of sentences: 137861\n",
      "Average number of words in a sentence: 13.225277634719028\n",
      "\n",
      "English sentences 0 to 10:\n",
      "new jersey is sometimes quiet during autumn , and it is snowy in april .\n",
      "the united states is usually chilly during july , and it is usually freezing in november .\n",
      "california is usually quiet during march , and it is usually hot in june .\n",
      "the united states is sometimes mild during june , and it is cold in september .\n",
      "your least liked fruit is the grape , but my least liked is the apple .\n",
      "his favorite fruit is the orange , but my favorite is the grape .\n",
      "paris is relaxing during december , but it is usually chilly in july .\n",
      "new jersey is busy during spring , and it is never hot in march .\n",
      "our least liked fruit is the lemon , but my least liked is the grape .\n",
      "the united states is sometimes busy during january , and it is sometimes warm in november .\n",
      "\n",
      "French sentences 0 to 10:\n",
      "new jersey est parfois calme pendant l' automne , et il est neigeux en avril .\n",
      "les états-unis est généralement froid en juillet , et il gèle habituellement en novembre .\n",
      "california est généralement calme en mars , et il est généralement chaud en juin .\n",
      "les états-unis est parfois légère en juin , et il fait froid en septembre .\n",
      "votre moins aimé fruit est le raisin , mais mon moins aimé est la pomme .\n",
      "son fruit préféré est l'orange , mais mon préféré est le raisin .\n",
      "paris est relaxant en décembre , mais il est généralement froid en juillet .\n",
      "new jersey est occupé au printemps , et il est jamais chaude en mars .\n",
      "notre fruit est moins aimé le citron , mais mon moins aimé est le raisin .\n",
      "les états-unis est parfois occupé en janvier , et il est parfois chaud en novembre .\n"
     ]
    }
   ],
   "source": [
    "view_sentence_range = (0, 10)\n",
    "\n",
    "\"\"\"\n",
    "DON'T MODIFY ANYTHING IN THIS CELL\n",
    "\"\"\"\n",
    "import numpy as np\n",
    "\n",
    "print('Dataset Stats')\n",
    "print('Roughly the number of unique words: {}'.format(len({word: None for word in source_text.split()})))\n",
    "\n",
    "sentences = source_text.split('\\n')\n",
    "word_counts = [len(sentence.split()) for sentence in sentences]\n",
    "print('Number of sentences: {}'.format(len(sentences)))\n",
    "print('Average number of words in a sentence: {}'.format(np.average(word_counts)))\n",
    "\n",
    "print()\n",
    "print('English sentences {} to {}:'.format(*view_sentence_range))\n",
    "print('\\n'.join(source_text.split('\\n')[view_sentence_range[0]:view_sentence_range[1]]))\n",
    "print()\n",
    "print('French sentences {} to {}:'.format(*view_sentence_range))\n",
    "print('\\n'.join(target_text.split('\\n')[view_sentence_range[0]:view_sentence_range[1]]))"
   ]
  },
  {
   "cell_type": "markdown",
   "metadata": {},
   "source": [
    "## Implement Preprocessing Function\n",
    "### Text to Word Ids\n",
    "As you did with other RNNs, you must turn the text into a number so the computer can understand it. In the function `text_to_ids()`, you'll turn `source_text` and `target_text` from words to ids.  However, you need to add the `<EOS>` word id at the end of `target_text`.  This will help the neural network predict when the sentence should end.\n",
    "\n",
    "You can get the `<EOS>` word id by doing:\n",
    "```python\n",
    "target_vocab_to_int['<EOS>']\n",
    "```\n",
    "You can get other word ids using `source_vocab_to_int` and `target_vocab_to_int`."
   ]
  },
  {
   "cell_type": "code",
   "execution_count": 75,
   "metadata": {},
   "outputs": [
    {
     "name": "stdout",
     "output_type": "stream",
     "text": [
      "Tests Passed\n"
     ]
    }
   ],
   "source": [
    "def text_to_ids(source_text, target_text, source_vocab_to_int, target_vocab_to_int):\n",
    "    \"\"\"\n",
    "    Convert source and target text to proper word ids\n",
    "    :param source_text: String that contains all the source text.\n",
    "    :param target_text: String that contains all the target text.\n",
    "    :param source_vocab_to_int: Dictionary to go from the source words to an id\n",
    "    :param target_vocab_to_int: Dictionary to go from the target words to an id\n",
    "    :return: A tuple of lists (source_id_text, target_id_text)\n",
    "    \"\"\"\n",
    "    # TODO: Implement Function\n",
    "    source_id_text = []\n",
    "    for sentence in source_text.split('\\n'):\n",
    "        source_id_text.append([source_vocab_to_int[word] for word in sentence.split()])\n",
    "\n",
    "    target_id_text = []\n",
    "    for sentence in target_text.split('\\n'):\n",
    "        sentence += ' ' + '<EOS>' \n",
    "        target_id_text.append([target_vocab_to_int[word] for word in sentence.split()])\n",
    "\n",
    "    return (source_id_text, target_id_text)\n",
    "\n",
    "\"\"\"\n",
    "DON'T MODIFY ANYTHING IN THIS CELL THAT IS BELOW THIS LINE\n",
    "\"\"\"\n",
    "tests.test_text_to_ids(text_to_ids)"
   ]
  },
  {
   "cell_type": "markdown",
   "metadata": {},
   "source": [
    "### Preprocess all the data and save it\n",
    "Running the code cell below will preprocess all the data and save it to file."
   ]
  },
  {
   "cell_type": "code",
   "execution_count": 76,
   "metadata": {
    "collapsed": true
   },
   "outputs": [],
   "source": [
    "\"\"\"\n",
    "DON'T MODIFY ANYTHING IN THIS CELL\n",
    "\"\"\"\n",
    "helper.preprocess_and_save_data(source_path, target_path, text_to_ids)"
   ]
  },
  {
   "cell_type": "markdown",
   "metadata": {},
   "source": [
    "# Check Point\n",
    "This is your first checkpoint. If you ever decide to come back to this notebook or have to restart the notebook, you can start from here. The preprocessed data has been saved to disk."
   ]
  },
  {
   "cell_type": "code",
   "execution_count": 77,
   "metadata": {
    "collapsed": true
   },
   "outputs": [],
   "source": [
    "\"\"\"\n",
    "DON'T MODIFY ANYTHING IN THIS CELL\n",
    "\"\"\"\n",
    "import numpy as np\n",
    "import helper\n",
    "import problem_unittests as tests\n",
    "\n",
    "(source_int_text, target_int_text), (source_vocab_to_int, target_vocab_to_int), _ = helper.load_preprocess()"
   ]
  },
  {
   "cell_type": "markdown",
   "metadata": {},
   "source": [
    "### Check the Version of TensorFlow and Access to GPU\n",
    "This will check to make sure you have the correct version of TensorFlow and access to a GPU"
   ]
  },
  {
   "cell_type": "code",
   "execution_count": 78,
   "metadata": {},
   "outputs": [
    {
     "name": "stdout",
     "output_type": "stream",
     "text": [
      "TensorFlow Version: 1.1.0\n",
      "Default GPU Device: /gpu:0\n"
     ]
    }
   ],
   "source": [
    "\"\"\"\n",
    "DON'T MODIFY ANYTHING IN THIS CELL\n",
    "\"\"\"\n",
    "from distutils.version import LooseVersion\n",
    "import warnings\n",
    "import tensorflow as tf\n",
    "from tensorflow.python.layers.core import Dense\n",
    "\n",
    "# Check TensorFlow Version\n",
    "assert LooseVersion(tf.__version__) >= LooseVersion('1.1'), 'Please use TensorFlow version 1.1 or newer'\n",
    "print('TensorFlow Version: {}'.format(tf.__version__))\n",
    "\n",
    "# Check for a GPU\n",
    "if not tf.test.gpu_device_name():\n",
    "    warnings.warn('No GPU found. Please use a GPU to train your neural network.')\n",
    "else:\n",
    "    print('Default GPU Device: {}'.format(tf.test.gpu_device_name()))"
   ]
  },
  {
   "cell_type": "markdown",
   "metadata": {},
   "source": [
    "## Build the Neural Network\n",
    "You'll build the components necessary to build a Sequence-to-Sequence model by implementing the following functions below:\n",
    "- `model_inputs`\n",
    "- `process_decoder_input`\n",
    "- `encoding_layer`\n",
    "- `decoding_layer_train`\n",
    "- `decoding_layer_infer`\n",
    "- `decoding_layer`\n",
    "- `seq2seq_model`\n",
    "\n",
    "### Input\n",
    "Implement the `model_inputs()` function to create TF Placeholders for the Neural Network. It should create the following placeholders:\n",
    "\n",
    "- Input text placeholder named \"input\" using the TF Placeholder name parameter with rank 2.\n",
    "- Targets placeholder with rank 2.\n",
    "- Learning rate placeholder with rank 0.\n",
    "- Keep probability placeholder named \"keep_prob\" using the TF Placeholder name parameter with rank 0.\n",
    "- Target sequence length placeholder named \"target_sequence_length\" with rank 1\n",
    "- Max target sequence length tensor named \"max_target_len\" getting its value from applying tf.reduce_max on the target_sequence_length placeholder. Rank 0.\n",
    "- Source sequence length placeholder named \"source_sequence_length\" with rank 1\n",
    "\n",
    "Return the placeholders in the following the tuple (input, targets, learning rate, keep probability, target sequence length, max target sequence length, source sequence length)"
   ]
  },
  {
   "cell_type": "code",
   "execution_count": 79,
   "metadata": {},
   "outputs": [
    {
     "name": "stdout",
     "output_type": "stream",
     "text": [
      "Tests Passed\n"
     ]
    }
   ],
   "source": [
    "def model_inputs():\n",
    "    \"\"\"\n",
    "    Create TF Placeholders for input, targets, learning rate, and lengths of source and target sequences.\n",
    "    :return: Tuple (input, targets, learning rate, keep probability, target sequence length,\n",
    "    max target sequence length, source sequence length)\n",
    "    \"\"\"\n",
    "    # TODO: Implement Function\n",
    "    input = tf.placeholder(tf.int32, shape=(None, None), name='input')\n",
    "    targets = tf.placeholder(tf.int32, shape=(None, None))\n",
    "    learning_rate = tf.placeholder(tf.float32)\n",
    "    keep_prob = tf.placeholder(tf.float32, name='keep_prob')\n",
    "    \n",
    "    target_seq_len = tf.placeholder(tf.int32, shape=(None, ), name='target_sequence_length')\n",
    "    max_target_len = tf.reduce_max(target_seq_len, name='max_target_len')\n",
    "    \n",
    "    source_seq_len = tf.placeholder(tf.int32, shape=(None, ), name='source_sequence_length')\n",
    "    \n",
    "    return (input, targets, learning_rate, keep_prob, target_seq_len, max_target_len, source_seq_len)\n",
    "\n",
    "\n",
    "\"\"\"\n",
    "DON'T MODIFY ANYTHING IN THIS CELL THAT IS BELOW THIS LINE\n",
    "\"\"\"\n",
    "tests.test_model_inputs(model_inputs)"
   ]
  },
  {
   "cell_type": "markdown",
   "metadata": {},
   "source": [
    "### Process Decoder Input\n",
    "Implement `process_decoder_input` by removing the last word id from each batch in `target_data` and concat the GO ID to the begining of each batch."
   ]
  },
  {
   "cell_type": "code",
   "execution_count": 80,
   "metadata": {},
   "outputs": [
    {
     "name": "stdout",
     "output_type": "stream",
     "text": [
      "Tests Passed\n"
     ]
    }
   ],
   "source": [
    "def process_decoder_input(target_data, target_vocab_to_int, batch_size):\n",
    "    \"\"\"\n",
    "    Preprocess target data for encoding\n",
    "    :param target_data: Target Placehoder\n",
    "    :param target_vocab_to_int: Dictionary to go from the target words to an id\n",
    "    :param batch_size: Batch Size\n",
    "    :return: Preprocessed target data\n",
    "    \"\"\"\n",
    "    # TODO: Implement Function\n",
    "    ending = tf.strided_slice(target_data, [0, 0], [batch_size, -1], [1, 1])\n",
    "    dec_input = tf.concat([tf.fill([batch_size, 1], target_vocab_to_int['<GO>']), ending], 1)\n",
    "\n",
    "    return dec_input\n",
    "\n",
    "\"\"\"\n",
    "DON'T MODIFY ANYTHING IN THIS CELL THAT IS BELOW THIS LINE\n",
    "\"\"\"\n",
    "tests.test_process_encoding_input(process_decoder_input)"
   ]
  },
  {
   "cell_type": "markdown",
   "metadata": {},
   "source": [
    "### Encoding\n",
    "Implement `encoding_layer()` to create a Encoder RNN layer:\n",
    " * Embed the encoder input using [`tf.contrib.layers.embed_sequence`](https://www.tensorflow.org/api_docs/python/tf/contrib/layers/embed_sequence)\n",
    " * Construct a [stacked](https://github.com/tensorflow/tensorflow/blob/6947f65a374ebf29e74bb71e36fd82760056d82c/tensorflow/docs_src/tutorials/recurrent.md#stacking-multiple-lstms) [`tf.contrib.rnn.LSTMCell`](https://www.tensorflow.org/api_docs/python/tf/contrib/rnn/LSTMCell) wrapped in a [`tf.contrib.rnn.DropoutWrapper`](https://www.tensorflow.org/api_docs/python/tf/contrib/rnn/DropoutWrapper)\n",
    " * Pass cell and embedded input to [`tf.nn.dynamic_rnn()`](https://www.tensorflow.org/api_docs/python/tf/nn/dynamic_rnn)"
   ]
  },
  {
   "cell_type": "code",
   "execution_count": 81,
   "metadata": {
    "scrolled": false
   },
   "outputs": [
    {
     "name": "stdout",
     "output_type": "stream",
     "text": [
      "Tests Passed\n"
     ]
    }
   ],
   "source": [
    "from imp import reload\n",
    "reload(tests)\n",
    "\n",
    "def encoding_layer(rnn_inputs, rnn_size, num_layers, keep_prob, \n",
    "                   source_sequence_length, source_vocab_size, \n",
    "                   encoding_embedding_size):\n",
    "    \"\"\"\n",
    "    Create encoding layer\n",
    "    :param rnn_inputs: Inputs for the RNN\n",
    "    :param rnn_size: RNN Size\n",
    "    :param num_layers: Number of layers\n",
    "    :param keep_prob: Dropout keep probability\n",
    "    :param source_sequence_length: a list of the lengths of each sequence in the batch\n",
    "    :param source_vocab_size: vocabulary size of source data\n",
    "    :param encoding_embedding_size: embedding size of source data\n",
    "    :return: tuple (RNN output, RNN state)\n",
    "    \"\"\"\n",
    "    # TODO: Implement Function\n",
    "    enc_input = tf.contrib.layers.embed_sequence(rnn_inputs, source_vocab_size, encoding_embedding_size)\n",
    "\n",
    "    def make_cell(rnn_size):\n",
    "        enc_cell = tf.contrib.rnn.LSTMCell(rnn_size,\n",
    "                                           initializer=tf.random_uniform_initializer(-0.1, 0.1, seed=2))\n",
    "        return enc_cell\n",
    "    \n",
    "    enc_cell = tf.contrib.rnn.MultiRNNCell([make_cell(rnn_size) for _ in range(num_layers)])\n",
    "    enc_cell = tf.contrib.rnn.DropoutWrapper(enc_cell, output_keep_prob=keep_prob)\n",
    "    rnn_output, rnn_state = tf.nn.dynamic_rnn(enc_cell, enc_input, \\\n",
    "                                                     sequence_length=source_sequence_length, \\\n",
    "                                                     dtype=tf.float32)\n",
    "    return (rnn_output, rnn_state)\n",
    "\n",
    "\n",
    "\"\"\"\n",
    "DON'T MODIFY ANYTHING IN THIS CELL THAT IS BELOW THIS LINE\n",
    "\"\"\"\n",
    "tests.test_encoding_layer(encoding_layer)"
   ]
  },
  {
   "cell_type": "markdown",
   "metadata": {},
   "source": [
    "### Decoding - Training\n",
    "Create a training decoding layer:\n",
    "* Create a [`tf.contrib.seq2seq.TrainingHelper`](https://www.tensorflow.org/api_docs/python/tf/contrib/seq2seq/TrainingHelper) \n",
    "* Create a [`tf.contrib.seq2seq.BasicDecoder`](https://www.tensorflow.org/api_docs/python/tf/contrib/seq2seq/BasicDecoder)\n",
    "* Obtain the decoder outputs from [`tf.contrib.seq2seq.dynamic_decode`](https://www.tensorflow.org/api_docs/python/tf/contrib/seq2seq/dynamic_decode)"
   ]
  },
  {
   "cell_type": "code",
   "execution_count": 82,
   "metadata": {},
   "outputs": [
    {
     "name": "stdout",
     "output_type": "stream",
     "text": [
      "Tests Passed\n"
     ]
    }
   ],
   "source": [
    "\n",
    "def decoding_layer_train(encoder_state, dec_cell, dec_embed_input, \n",
    "                         target_sequence_length, max_summary_length, \n",
    "                         output_layer, keep_prob):\n",
    "    \"\"\"\n",
    "    Create a decoding layer for training\n",
    "    :param encoder_state: Encoder State\n",
    "    :param dec_cell: Decoder RNN Cell\n",
    "    :param dec_embed_input: Decoder embedded input\n",
    "    :param target_sequence_length: The lengths of each sequence in the target batch\n",
    "    :param max_summary_length: The length of the longest sequence in the batch\n",
    "    :param output_layer: Function to apply the output layer\n",
    "    :param keep_prob: Dropout keep probability\n",
    "    :return: BasicDecoderOutput containing training logits and sample_id\n",
    "    \"\"\"\n",
    "    # TODO: Implement Function\n",
    "    training_helper = tf.contrib.seq2seq.TrainingHelper(inputs=dec_embed_input,\n",
    "                                                        sequence_length=target_sequence_length,\n",
    "                                                        time_major=False)\n",
    "    # Basic decoder\n",
    "    training_decoder = tf.contrib.seq2seq.BasicDecoder(dec_cell,\n",
    "                                                       training_helper,\n",
    "                                                       encoder_state,\n",
    "                                                       output_layer)\n",
    "    # Perform dynamic decoding using the decoder\n",
    "    training_decoder_output = tf.contrib.seq2seq.dynamic_decode(training_decoder,\n",
    "                                                                impute_finished=True,\n",
    "                                                                maximum_iterations=max_summary_length, \n",
    "                                                                scope='rnn')\n",
    "    \n",
    "    return training_decoder_output[0]\n",
    "\n",
    "\n",
    "\n",
    "\"\"\"\n",
    "DON'T MODIFY ANYTHING IN THIS CELL THAT IS BELOW THIS LINE\n",
    "\"\"\"\n",
    "tests.test_decoding_layer_train(decoding_layer_train)"
   ]
  },
  {
   "cell_type": "markdown",
   "metadata": {},
   "source": [
    "### Decoding - Inference\n",
    "Create inference decoder:\n",
    "* Create a [`tf.contrib.seq2seq.GreedyEmbeddingHelper`](https://www.tensorflow.org/api_docs/python/tf/contrib/seq2seq/GreedyEmbeddingHelper)\n",
    "* Create a [`tf.contrib.seq2seq.BasicDecoder`](https://www.tensorflow.org/api_docs/python/tf/contrib/seq2seq/BasicDecoder)\n",
    "* Obtain the decoder outputs from [`tf.contrib.seq2seq.dynamic_decode`](https://www.tensorflow.org/api_docs/python/tf/contrib/seq2seq/dynamic_decode)"
   ]
  },
  {
   "cell_type": "code",
   "execution_count": 83,
   "metadata": {
    "scrolled": true
   },
   "outputs": [
    {
     "name": "stdout",
     "output_type": "stream",
     "text": [
      "Tests Passed\n"
     ]
    }
   ],
   "source": [
    "def decoding_layer_infer(encoder_state, dec_cell, dec_embeddings, start_of_sequence_id,\n",
    "                         end_of_sequence_id, max_target_sequence_length,\n",
    "                         vocab_size, output_layer, batch_size, keep_prob):\n",
    "    \"\"\"\n",
    "    Create a decoding layer for inference\n",
    "    :param encoder_state: Encoder state\n",
    "    :param dec_cell: Decoder RNN Cell\n",
    "    :param dec_embeddings: Decoder embeddings\n",
    "    :param start_of_sequence_id: GO ID\n",
    "    :param end_of_sequence_id: EOS Id\n",
    "    :param max_target_sequence_length: Maximum length of target sequences\n",
    "    :param vocab_size: Size of decoder/target vocabulary\n",
    "    :param decoding_scope: TenorFlow Variable Scope for decoding\n",
    "    :param output_layer: Function to apply the output layer\n",
    "    :param batch_size: Batch size\n",
    "    :param keep_prob: Dropout keep probability\n",
    "    :return: BasicDecoderOutput containing inference logits and sample_id\n",
    "    \"\"\"\n",
    "    # TODO: Implement Function\n",
    "    start_tokens = tf.tile(tf.constant([start_of_sequence_id], dtype=tf.int32), \\\n",
    "                               [batch_size], name='start_tokens')\n",
    "    helper = tf.contrib.seq2seq.GreedyEmbeddingHelper(embedding=dec_embeddings, \\\n",
    "                                                      start_tokens=start_tokens, \\\n",
    "                                                      end_token=end_of_sequence_id)\n",
    "\n",
    "    decoder = tf.contrib.seq2seq.BasicDecoder(cell=dec_cell, helper=helper, \\\n",
    "                                              initial_state=encoder_state,\n",
    "                                              output_layer=output_layer)\n",
    "    \n",
    "    decoder_output = tf.contrib.seq2seq.dynamic_decode(decoder=decoder, output_time_major=False, \\\n",
    "                                                       impute_finished=True, \\\n",
    "                                                        maximum_iterations=max_target_sequence_length, \\\n",
    "                                                        scope='rnn')\n",
    "    return decoder_output[0]\n",
    "\n",
    "\n",
    "\"\"\"\n",
    "DON'T MODIFY ANYTHING IN THIS CELL THAT IS BELOW THIS LINE\n",
    "\"\"\"\n",
    "tests.test_decoding_layer_infer(decoding_layer_infer)"
   ]
  },
  {
   "cell_type": "markdown",
   "metadata": {},
   "source": [
    "### Build the Decoding Layer\n",
    "Implement `decoding_layer()` to create a Decoder RNN layer.\n",
    "\n",
    "* Embed the target sequences\n",
    "* Construct the decoder LSTM cell (just like you constructed the encoder cell above)\n",
    "* Create an output layer to map the outputs of the decoder to the elements of our vocabulary\n",
    "* Use the your `decoding_layer_train(encoder_state, dec_cell, dec_embed_input, target_sequence_length, max_target_sequence_length, output_layer, keep_prob)` function to get the training logits.\n",
    "* Use your `decoding_layer_infer(encoder_state, dec_cell, dec_embeddings, start_of_sequence_id, end_of_sequence_id, max_target_sequence_length, vocab_size, output_layer, batch_size, keep_prob)` function to get the inference logits.\n",
    "\n",
    "Note: You'll need to use [tf.variable_scope](https://www.tensorflow.org/api_docs/python/tf/variable_scope) to share variables between training and inference."
   ]
  },
  {
   "cell_type": "code",
   "execution_count": 84,
   "metadata": {},
   "outputs": [
    {
     "name": "stdout",
     "output_type": "stream",
     "text": [
      "Tests Passed\n"
     ]
    }
   ],
   "source": [
    "def decoding_layer(dec_input, encoder_state,\n",
    "                   target_sequence_length, max_target_sequence_length,\n",
    "                   rnn_size,\n",
    "                   num_layers, target_vocab_to_int, target_vocab_size,\n",
    "                   batch_size, keep_prob, decoding_embedding_size):\n",
    "    \"\"\"\n",
    "    Create decoding layer\n",
    "    :param dec_input: Decoder input\n",
    "    :param encoder_state: Encoder state\n",
    "    :param target_sequence_length: The lengths of each sequence in the target batch\n",
    "    :param max_target_sequence_length: Maximum length of target sequences\n",
    "    :param rnn_size: RNN Size\n",
    "    :param num_layers: Number of layers\n",
    "    :param target_vocab_to_int: Dictionary to go from the target words to an id\n",
    "    :param target_vocab_size: Size of target vocabulary\n",
    "    :param batch_size: The size of the batch\n",
    "    :param keep_prob: Dropout keep probability\n",
    "    :param decoding_embedding_size: Decoding embedding size\n",
    "    :return: Tuple of (Training BasicDecoderOutput, Inference BasicDecoderOutput)\n",
    "    \"\"\"\n",
    "    # TODO: Implement Function\n",
    "    #print(batch_size, rnn_size, num_layers)\n",
    "    dec_embeddings = tf.Variable(tf.random_uniform([target_vocab_size, decoding_embedding_size]))\n",
    "    dec_embed_input = tf.nn.embedding_lookup(dec_embeddings, dec_input)\n",
    "    \n",
    "    def make_dec_cell(rnn_size):\n",
    "        dec_cell = tf.contrib.rnn.LSTMCell(rnn_size, \\\n",
    "                                           initializer=tf.random_uniform_initializer(-0.1, 0.1, seed=2))\n",
    "        return dec_cell\n",
    "    \n",
    "    with tf.variable_scope(\"decode\"):\n",
    "        dec_cell = tf.contrib.rnn.MultiRNNCell([make_dec_cell(rnn_size) for _ in range(num_layers)])\n",
    "        dec_cell = tf.contrib.rnn.DropoutWrapper(dec_cell, output_keep_prob=keep_prob)\n",
    "        rnn_output, rnn_state = tf.nn.dynamic_rnn(dec_cell, dec_embed_input, \\\n",
    "                                              sequence_length=target_sequence_length, \\\n",
    "                                              dtype=tf.float32)\n",
    "\n",
    "    output_layer = Dense(target_vocab_size, \\\n",
    "                         kernel_initializer = tf.truncated_normal_initializer(mean = 0.0, stddev=0.1))\n",
    "\n",
    "    with tf.variable_scope(\"decode\", reuse=True):\n",
    "        training_decoder_output = decoding_layer_train(encoder_state, dec_cell, dec_embed_input, \\\n",
    "                                                   target_sequence_length, \\\n",
    "                                                   max_target_sequence_length, output_layer, keep_prob)\n",
    "    \n",
    "    with tf.variable_scope(\"decode\", reuse=True):\n",
    "        inference_decoder_output = decoding_layer_infer(encoder_state, dec_cell, dec_embeddings, \\\n",
    "                                                    target_vocab_to_int['<GO>'], \\\n",
    "                                                    target_vocab_to_int['<EOS>'], max_target_sequence_length, \\\n",
    "                                                    target_vocab_size, output_layer, batch_size, keep_prob)\n",
    "\n",
    "    return (training_decoder_output, inference_decoder_output)\n",
    "\"\"\"\n",
    "DON'T MODIFY ANYTHING IN THIS CELL THAT IS BELOW THIS LINE\n",
    "\"\"\"\n",
    "tests.test_decoding_layer(decoding_layer)"
   ]
  },
  {
   "cell_type": "markdown",
   "metadata": {},
   "source": [
    "### Build the Neural Network\n",
    "Apply the functions you implemented above to:\n",
    "\n",
    "- Encode the input using your `encoding_layer(rnn_inputs, rnn_size, num_layers, keep_prob,  source_sequence_length, source_vocab_size, encoding_embedding_size)`.\n",
    "- Process target data using your `process_decoder_input(target_data, target_vocab_to_int, batch_size)` function.\n",
    "- Decode the encoded input using your `decoding_layer(dec_input, enc_state, target_sequence_length, max_target_sentence_length, rnn_size, num_layers, target_vocab_to_int, target_vocab_size, batch_size, keep_prob, dec_embedding_size)` function."
   ]
  },
  {
   "cell_type": "code",
   "execution_count": 85,
   "metadata": {},
   "outputs": [
    {
     "name": "stdout",
     "output_type": "stream",
     "text": [
      "Tests Passed\n"
     ]
    }
   ],
   "source": [
    "def seq2seq_model(input_data, target_data, keep_prob, batch_size,\n",
    "                  source_sequence_length, target_sequence_length,\n",
    "                  max_target_sentence_length,\n",
    "                  source_vocab_size, target_vocab_size,\n",
    "                  enc_embedding_size, dec_embedding_size,\n",
    "                  rnn_size, num_layers, target_vocab_to_int):\n",
    "    \"\"\"\n",
    "    Build the Sequence-to-Sequence part of the neural network\n",
    "    :param input_data: Input placeholder\n",
    "    :param target_data: Target placeholder\n",
    "    :param keep_prob: Dropout keep probability placeholder\n",
    "    :param batch_size: Batch Size\n",
    "    :param source_sequence_length: Sequence Lengths of source sequences in the batch\n",
    "    :param target_sequence_length: Sequence Lengths of target sequences in the batch\n",
    "    :param source_vocab_size: Source vocabulary size\n",
    "    :param target_vocab_size: Target vocabulary size\n",
    "    :param enc_embedding_size: Decoder embedding size\n",
    "    :param dec_embedding_size: Encoder embedding size\n",
    "    :param rnn_size: RNN Size\n",
    "    :param num_layers: Number of layers\n",
    "    :param target_vocab_to_int: Dictionary to go from the target words to an id\n",
    "    :return: Tuple of (Training BasicDecoderOutput, Inference BasicDecoderOutput)\n",
    "    \"\"\"\n",
    "    # TODO: Implement Function\n",
    "    encoder_output, encoder_state = encoding_layer(input_data, rnn_size, num_layers, keep_prob,  \\\n",
    "                                           source_sequence_length, source_vocab_size, \\\n",
    "                                           enc_embedding_size)\n",
    "    \n",
    "    decoder_input = process_decoder_input(target_data, target_vocab_to_int, batch_size)\n",
    "    \n",
    "    training_decoder_output, inference_decoder_output = decoding_layer(decoder_input, encoder_state, \\\n",
    "                                                                       target_sequence_length, \\\n",
    "                                                                       max_target_sentence_length, \\\n",
    "                                                                       rnn_size, num_layers, \\\n",
    "                                                                       target_vocab_to_int, target_vocab_size, \\\n",
    "                                                                       batch_size, keep_prob, dec_embedding_size)\n",
    "    return (training_decoder_output, inference_decoder_output)\n",
    "\n",
    "\n",
    "\"\"\"\n",
    "DON'T MODIFY ANYTHING IN THIS CELL THAT IS BELOW THIS LINE\n",
    "\"\"\"\n",
    "tests.test_seq2seq_model(seq2seq_model)"
   ]
  },
  {
   "cell_type": "markdown",
   "metadata": {},
   "source": [
    "## Neural Network Training\n",
    "### Hyperparameters\n",
    "Tune the following parameters:\n",
    "\n",
    "- Set `epochs` to the number of epochs.\n",
    "- Set `batch_size` to the batch size.\n",
    "- Set `rnn_size` to the size of the RNNs.\n",
    "- Set `num_layers` to the number of layers.\n",
    "- Set `encoding_embedding_size` to the size of the embedding for the encoder.\n",
    "- Set `decoding_embedding_size` to the size of the embedding for the decoder.\n",
    "- Set `learning_rate` to the learning rate.\n",
    "- Set `keep_probability` to the Dropout keep probability\n",
    "- Set `display_step` to state how many steps between each debug output statement"
   ]
  },
  {
   "cell_type": "code",
   "execution_count": 86,
   "metadata": {
    "collapsed": true
   },
   "outputs": [],
   "source": [
    "# Number of Epochs\n",
    "epochs = 30\n",
    "# Batch Size\n",
    "batch_size = 256\n",
    "# RNN Size\n",
    "rnn_size = 30\n",
    "# Number of Layers\n",
    "num_layers = 2\n",
    "# Embedding Size\n",
    "encoding_embedding_size = 200\n",
    "decoding_embedding_size = 200\n",
    "# Learning Rate\n",
    "learning_rate = 0.001\n",
    "# Dropout Keep Probability\n",
    "keep_probability = 0.75\n",
    "display_step = 50"
   ]
  },
  {
   "cell_type": "markdown",
   "metadata": {},
   "source": [
    "### Build the Graph\n",
    "Build the graph using the neural network you implemented."
   ]
  },
  {
   "cell_type": "code",
   "execution_count": 87,
   "metadata": {
    "collapsed": true
   },
   "outputs": [],
   "source": [
    "\"\"\"\n",
    "DON'T MODIFY ANYTHING IN THIS CELL\n",
    "\"\"\"\n",
    "save_path = 'checkpoints/dev'\n",
    "(source_int_text, target_int_text), (source_vocab_to_int, target_vocab_to_int), _ = helper.load_preprocess()\n",
    "max_target_sentence_length = max([len(sentence) for sentence in source_int_text])\n",
    "\n",
    "train_graph = tf.Graph()\n",
    "with train_graph.as_default():\n",
    "    input_data, targets, lr, keep_prob, target_sequence_length, max_target_sequence_length, source_sequence_length = model_inputs()\n",
    "    #sequence_length = tf.placeholder_with_default(max_target_sentence_length, None, name='sequence_length')\n",
    "    input_shape = tf.shape(input_data)\n",
    "\n",
    "    train_logits, inference_logits = seq2seq_model(tf.reverse(input_data, [-1]),\n",
    "                                                   targets,\n",
    "                                                   keep_prob,\n",
    "                                                   batch_size,\n",
    "                                                   source_sequence_length,\n",
    "                                                   target_sequence_length,\n",
    "                                                   max_target_sequence_length,\n",
    "                                                   len(source_vocab_to_int),\n",
    "                                                   len(target_vocab_to_int),\n",
    "                                                   encoding_embedding_size,\n",
    "                                                   decoding_embedding_size,\n",
    "                                                   rnn_size,\n",
    "                                                   num_layers,\n",
    "                                                   target_vocab_to_int)\n",
    "\n",
    "\n",
    "    training_logits = tf.identity(train_logits.rnn_output, name='logits')\n",
    "    inference_logits = tf.identity(inference_logits.sample_id, name='predictions')\n",
    "\n",
    "    masks = tf.sequence_mask(target_sequence_length, max_target_sequence_length, dtype=tf.float32, name='masks')\n",
    "\n",
    "    with tf.name_scope(\"optimization\"):\n",
    "        # Loss function\n",
    "        cost = tf.contrib.seq2seq.sequence_loss(\n",
    "            training_logits,\n",
    "            targets,\n",
    "            masks)\n",
    "\n",
    "        # Optimizer\n",
    "        optimizer = tf.train.AdamOptimizer(lr)\n",
    "\n",
    "        # Gradient Clipping\n",
    "        gradients = optimizer.compute_gradients(cost)\n",
    "        capped_gradients = [(tf.clip_by_value(grad, -1., 1.), var) for grad, var in gradients if grad is not None]\n",
    "        train_op = optimizer.apply_gradients(capped_gradients)\n"
   ]
  },
  {
   "cell_type": "markdown",
   "metadata": {},
   "source": [
    "Batch and pad the source and target sequences"
   ]
  },
  {
   "cell_type": "code",
   "execution_count": 88,
   "metadata": {
    "collapsed": true
   },
   "outputs": [],
   "source": [
    "\"\"\"\n",
    "DON'T MODIFY ANYTHING IN THIS CELL\n",
    "\"\"\"\n",
    "def pad_sentence_batch(sentence_batch, pad_int):\n",
    "    \"\"\"Pad sentences with <PAD> so that each sentence of a batch has the same length\"\"\"\n",
    "    max_sentence = max([len(sentence) for sentence in sentence_batch])\n",
    "    return [sentence + [pad_int] * (max_sentence - len(sentence)) for sentence in sentence_batch]\n",
    "\n",
    "\n",
    "def get_batches(sources, targets, batch_size, source_pad_int, target_pad_int):\n",
    "    \"\"\"Batch targets, sources, and the lengths of their sentences together\"\"\"\n",
    "    for batch_i in range(0, len(sources)//batch_size):\n",
    "        start_i = batch_i * batch_size\n",
    "\n",
    "        # Slice the right amount for the batch\n",
    "        sources_batch = sources[start_i:start_i + batch_size]\n",
    "        targets_batch = targets[start_i:start_i + batch_size]\n",
    "\n",
    "        # Pad\n",
    "        pad_sources_batch = np.array(pad_sentence_batch(sources_batch, source_pad_int))\n",
    "        pad_targets_batch = np.array(pad_sentence_batch(targets_batch, target_pad_int))\n",
    "\n",
    "        # Need the lengths for the _lengths parameters\n",
    "        pad_targets_lengths = []\n",
    "        for target in pad_targets_batch:\n",
    "            pad_targets_lengths.append(len(target))\n",
    "\n",
    "        pad_source_lengths = []\n",
    "        for source in pad_sources_batch:\n",
    "            pad_source_lengths.append(len(source))\n",
    "\n",
    "        yield pad_sources_batch, pad_targets_batch, pad_source_lengths, pad_targets_lengths\n"
   ]
  },
  {
   "cell_type": "markdown",
   "metadata": {},
   "source": [
    "### Train\n",
    "Train the neural network on the preprocessed data. If you have a hard time getting a good loss, check the forms to see if anyone is having the same problem."
   ]
  },
  {
   "cell_type": "code",
   "execution_count": 89,
   "metadata": {
    "scrolled": true
   },
   "outputs": [
    {
     "name": "stdout",
     "output_type": "stream",
     "text": [
      "Epoch   0 Batch   50/538 - Train Accuracy: 0.2443, Validation Accuracy: 0.3157, Loss: 4.0268\n",
      "Epoch   0 Batch  100/538 - Train Accuracy: 0.2422, Validation Accuracy: 0.3157, Loss: 3.6386\n",
      "Epoch   0 Batch  150/538 - Train Accuracy: 0.2711, Validation Accuracy: 0.3430, Loss: 3.4775\n",
      "Epoch   0 Batch  200/538 - Train Accuracy: 0.2893, Validation Accuracy: 0.3542, Loss: 3.2994\n",
      "Epoch   0 Batch  250/538 - Train Accuracy: 0.2842, Validation Accuracy: 0.3540, Loss: 3.1431\n",
      "Epoch   0 Batch  300/538 - Train Accuracy: 0.3371, Validation Accuracy: 0.3677, Loss: 2.8515\n",
      "Epoch   0 Batch  350/538 - Train Accuracy: 0.3402, Validation Accuracy: 0.3798, Loss: 2.7350\n",
      "Epoch   0 Batch  400/538 - Train Accuracy: 0.3629, Validation Accuracy: 0.3977, Loss: 2.5792\n",
      "Epoch   0 Batch  450/538 - Train Accuracy: 0.4066, Validation Accuracy: 0.4208, Loss: 2.4149\n",
      "Epoch   0 Batch  500/538 - Train Accuracy: 0.4206, Validation Accuracy: 0.4114, Loss: 2.2620\n",
      "Epoch   1 Batch   50/538 - Train Accuracy: 0.3607, Validation Accuracy: 0.4055, Loss: 2.2382\n",
      "Epoch   1 Batch  100/538 - Train Accuracy: 0.3473, Validation Accuracy: 0.3899, Loss: 2.1025\n",
      "Epoch   1 Batch  150/538 - Train Accuracy: 0.3406, Validation Accuracy: 0.3828, Loss: 1.9948\n",
      "Epoch   1 Batch  200/538 - Train Accuracy: 0.3125, Validation Accuracy: 0.3516, Loss: 1.8737\n",
      "Epoch   1 Batch  250/538 - Train Accuracy: 0.2891, Validation Accuracy: 0.3411, Loss: 1.7588\n",
      "Epoch   1 Batch  300/538 - Train Accuracy: 0.2733, Validation Accuracy: 0.2965, Loss: 1.5638\n",
      "Epoch   1 Batch  350/538 - Train Accuracy: 0.2684, Validation Accuracy: 0.2901, Loss: 1.5248\n",
      "Epoch   1 Batch  400/538 - Train Accuracy: 0.2985, Validation Accuracy: 0.3230, Loss: 1.4237\n",
      "Epoch   1 Batch  450/538 - Train Accuracy: 0.3311, Validation Accuracy: 0.3608, Loss: 1.3555\n",
      "Epoch   1 Batch  500/538 - Train Accuracy: 0.3718, Validation Accuracy: 0.3750, Loss: 1.2273\n",
      "Epoch   2 Batch   50/538 - Train Accuracy: 0.3607, Validation Accuracy: 0.4080, Loss: 1.2144\n",
      "Epoch   2 Batch  100/538 - Train Accuracy: 0.3852, Validation Accuracy: 0.4324, Loss: 1.1700\n",
      "Epoch   2 Batch  150/538 - Train Accuracy: 0.3844, Validation Accuracy: 0.4357, Loss: 1.1511\n",
      "Epoch   2 Batch  200/538 - Train Accuracy: 0.3984, Validation Accuracy: 0.4363, Loss: 1.1041\n",
      "Epoch   2 Batch  250/538 - Train Accuracy: 0.3822, Validation Accuracy: 0.4235, Loss: 1.0836\n",
      "Epoch   2 Batch  300/538 - Train Accuracy: 0.4204, Validation Accuracy: 0.4485, Loss: 1.0072\n",
      "Epoch   2 Batch  350/538 - Train Accuracy: 0.4580, Validation Accuracy: 0.4771, Loss: 1.0273\n",
      "Epoch   2 Batch  400/538 - Train Accuracy: 0.4769, Validation Accuracy: 0.4883, Loss: 0.9799\n",
      "Epoch   2 Batch  450/538 - Train Accuracy: 0.4799, Validation Accuracy: 0.5016, Loss: 0.9691\n",
      "Epoch   2 Batch  500/538 - Train Accuracy: 0.5382, Validation Accuracy: 0.5059, Loss: 0.8776\n",
      "Epoch   3 Batch   50/538 - Train Accuracy: 0.5113, Validation Accuracy: 0.5225, Loss: 0.9125\n",
      "Epoch   3 Batch  100/538 - Train Accuracy: 0.5434, Validation Accuracy: 0.5343, Loss: 0.8766\n",
      "Epoch   3 Batch  150/538 - Train Accuracy: 0.5340, Validation Accuracy: 0.5366, Loss: 0.8821\n",
      "Epoch   3 Batch  200/538 - Train Accuracy: 0.5686, Validation Accuracy: 0.5572, Loss: 0.8480\n",
      "Epoch   3 Batch  250/538 - Train Accuracy: 0.5846, Validation Accuracy: 0.5755, Loss: 0.8433\n",
      "Epoch   3 Batch  300/538 - Train Accuracy: 0.6004, Validation Accuracy: 0.5763, Loss: 0.8028\n",
      "Epoch   3 Batch  350/538 - Train Accuracy: 0.6027, Validation Accuracy: 0.5936, Loss: 0.8138\n",
      "Epoch   3 Batch  400/538 - Train Accuracy: 0.6099, Validation Accuracy: 0.5820, Loss: 0.7824\n",
      "Epoch   3 Batch  450/538 - Train Accuracy: 0.6183, Validation Accuracy: 0.5909, Loss: 0.7962\n",
      "Epoch   3 Batch  500/538 - Train Accuracy: 0.6460, Validation Accuracy: 0.5909, Loss: 0.7205\n",
      "Epoch   4 Batch   50/538 - Train Accuracy: 0.6238, Validation Accuracy: 0.6014, Loss: 0.7626\n",
      "Epoch   4 Batch  100/538 - Train Accuracy: 0.6383, Validation Accuracy: 0.5994, Loss: 0.7313\n",
      "Epoch   4 Batch  150/538 - Train Accuracy: 0.6236, Validation Accuracy: 0.6039, Loss: 0.7421\n",
      "Epoch   4 Batch  200/538 - Train Accuracy: 0.6230, Validation Accuracy: 0.6119, Loss: 0.7123\n",
      "Epoch   4 Batch  250/538 - Train Accuracy: 0.6283, Validation Accuracy: 0.6085, Loss: 0.7266\n",
      "Epoch   4 Batch  300/538 - Train Accuracy: 0.6371, Validation Accuracy: 0.6092, Loss: 0.6908\n",
      "Epoch   4 Batch  350/538 - Train Accuracy: 0.6302, Validation Accuracy: 0.6197, Loss: 0.7050\n",
      "Epoch   4 Batch  400/538 - Train Accuracy: 0.6330, Validation Accuracy: 0.6117, Loss: 0.6749\n",
      "Epoch   4 Batch  450/538 - Train Accuracy: 0.6458, Validation Accuracy: 0.6234, Loss: 0.6841\n",
      "Epoch   4 Batch  500/538 - Train Accuracy: 0.6715, Validation Accuracy: 0.6250, Loss: 0.6234\n",
      "Epoch   5 Batch   50/538 - Train Accuracy: 0.6471, Validation Accuracy: 0.6273, Loss: 0.6658\n",
      "Epoch   5 Batch  100/538 - Train Accuracy: 0.6656, Validation Accuracy: 0.6248, Loss: 0.6465\n",
      "Epoch   5 Batch  150/538 - Train Accuracy: 0.6404, Validation Accuracy: 0.6225, Loss: 0.6475\n",
      "Epoch   5 Batch  200/538 - Train Accuracy: 0.6500, Validation Accuracy: 0.6246, Loss: 0.6190\n",
      "Epoch   5 Batch  250/538 - Train Accuracy: 0.6596, Validation Accuracy: 0.6248, Loss: 0.6387\n",
      "Epoch   5 Batch  300/538 - Train Accuracy: 0.6605, Validation Accuracy: 0.6348, Loss: 0.6161\n",
      "Epoch   5 Batch  350/538 - Train Accuracy: 0.6570, Validation Accuracy: 0.6323, Loss: 0.6235\n",
      "Epoch   5 Batch  400/538 - Train Accuracy: 0.6622, Validation Accuracy: 0.6326, Loss: 0.5985\n",
      "Epoch   5 Batch  450/538 - Train Accuracy: 0.6641, Validation Accuracy: 0.6365, Loss: 0.6050\n",
      "Epoch   5 Batch  500/538 - Train Accuracy: 0.6983, Validation Accuracy: 0.6362, Loss: 0.5408\n",
      "Epoch   6 Batch   50/538 - Train Accuracy: 0.6754, Validation Accuracy: 0.6392, Loss: 0.5835\n",
      "Epoch   6 Batch  100/538 - Train Accuracy: 0.6879, Validation Accuracy: 0.6397, Loss: 0.5634\n",
      "Epoch   6 Batch  150/538 - Train Accuracy: 0.6492, Validation Accuracy: 0.6419, Loss: 0.5776\n",
      "Epoch   6 Batch  200/538 - Train Accuracy: 0.6660, Validation Accuracy: 0.6435, Loss: 0.5464\n",
      "Epoch   6 Batch  250/538 - Train Accuracy: 0.6873, Validation Accuracy: 0.6467, Loss: 0.5550\n",
      "Epoch   6 Batch  300/538 - Train Accuracy: 0.6775, Validation Accuracy: 0.6635, Loss: 0.5352\n",
      "Epoch   6 Batch  350/538 - Train Accuracy: 0.6882, Validation Accuracy: 0.6502, Loss: 0.5616\n",
      "Epoch   6 Batch  400/538 - Train Accuracy: 0.6793, Validation Accuracy: 0.6536, Loss: 0.5278\n",
      "Epoch   6 Batch  450/538 - Train Accuracy: 0.6907, Validation Accuracy: 0.6664, Loss: 0.5448\n",
      "Epoch   6 Batch  500/538 - Train Accuracy: 0.7124, Validation Accuracy: 0.6580, Loss: 0.4906\n",
      "Epoch   7 Batch   50/538 - Train Accuracy: 0.6744, Validation Accuracy: 0.6612, Loss: 0.5244\n",
      "Epoch   7 Batch  100/538 - Train Accuracy: 0.7059, Validation Accuracy: 0.6715, Loss: 0.5114\n",
      "Epoch   7 Batch  150/538 - Train Accuracy: 0.6736, Validation Accuracy: 0.6664, Loss: 0.5215\n",
      "Epoch   7 Batch  200/538 - Train Accuracy: 0.6912, Validation Accuracy: 0.6722, Loss: 0.4981\n",
      "Epoch   7 Batch  250/538 - Train Accuracy: 0.7055, Validation Accuracy: 0.6870, Loss: 0.5130\n",
      "Epoch   7 Batch  300/538 - Train Accuracy: 0.6990, Validation Accuracy: 0.6697, Loss: 0.4897\n",
      "Epoch   7 Batch  350/538 - Train Accuracy: 0.7091, Validation Accuracy: 0.6863, Loss: 0.5064\n",
      "Epoch   7 Batch  400/538 - Train Accuracy: 0.6895, Validation Accuracy: 0.6873, Loss: 0.4959\n",
      "Epoch   7 Batch  450/538 - Train Accuracy: 0.7109, Validation Accuracy: 0.6875, Loss: 0.5033\n",
      "Epoch   7 Batch  500/538 - Train Accuracy: 0.7282, Validation Accuracy: 0.6886, Loss: 0.4445\n",
      "Epoch   8 Batch   50/538 - Train Accuracy: 0.7004, Validation Accuracy: 0.6998, Loss: 0.4889\n",
      "Epoch   8 Batch  100/538 - Train Accuracy: 0.7195, Validation Accuracy: 0.6792, Loss: 0.4690\n",
      "Epoch   8 Batch  150/538 - Train Accuracy: 0.6836, Validation Accuracy: 0.6774, Loss: 0.4747\n",
      "Epoch   8 Batch  200/538 - Train Accuracy: 0.7156, Validation Accuracy: 0.6999, Loss: 0.4496\n",
      "Epoch   8 Batch  250/538 - Train Accuracy: 0.7223, Validation Accuracy: 0.6921, Loss: 0.4593\n",
      "Epoch   8 Batch  300/538 - Train Accuracy: 0.7249, Validation Accuracy: 0.7001, Loss: 0.4543\n",
      "Epoch   8 Batch  350/538 - Train Accuracy: 0.7130, Validation Accuracy: 0.7035, Loss: 0.4638\n",
      "Epoch   8 Batch  400/538 - Train Accuracy: 0.6955, Validation Accuracy: 0.6907, Loss: 0.4510\n",
      "Epoch   8 Batch  450/538 - Train Accuracy: 0.7225, Validation Accuracy: 0.6987, Loss: 0.4596\n"
     ]
    },
    {
     "name": "stdout",
     "output_type": "stream",
     "text": [
      "Epoch   8 Batch  500/538 - Train Accuracy: 0.7491, Validation Accuracy: 0.6971, Loss: 0.4066\n",
      "Epoch   9 Batch   50/538 - Train Accuracy: 0.7148, Validation Accuracy: 0.7072, Loss: 0.4444\n",
      "Epoch   9 Batch  100/538 - Train Accuracy: 0.7186, Validation Accuracy: 0.6966, Loss: 0.4274\n",
      "Epoch   9 Batch  150/538 - Train Accuracy: 0.7186, Validation Accuracy: 0.6911, Loss: 0.4394\n",
      "Epoch   9 Batch  200/538 - Train Accuracy: 0.7258, Validation Accuracy: 0.7069, Loss: 0.4148\n",
      "Epoch   9 Batch  250/538 - Train Accuracy: 0.7486, Validation Accuracy: 0.7053, Loss: 0.4244\n",
      "Epoch   9 Batch  300/538 - Train Accuracy: 0.7279, Validation Accuracy: 0.6962, Loss: 0.4222\n",
      "Epoch   9 Batch  350/538 - Train Accuracy: 0.7344, Validation Accuracy: 0.7076, Loss: 0.4285\n",
      "Epoch   9 Batch  400/538 - Train Accuracy: 0.7100, Validation Accuracy: 0.7028, Loss: 0.4183\n",
      "Epoch   9 Batch  450/538 - Train Accuracy: 0.7221, Validation Accuracy: 0.7047, Loss: 0.4267\n",
      "Epoch   9 Batch  500/538 - Train Accuracy: 0.7653, Validation Accuracy: 0.7021, Loss: 0.3797\n",
      "Epoch  10 Batch   50/538 - Train Accuracy: 0.7266, Validation Accuracy: 0.7072, Loss: 0.4096\n",
      "Epoch  10 Batch  100/538 - Train Accuracy: 0.7490, Validation Accuracy: 0.7124, Loss: 0.4018\n",
      "Epoch  10 Batch  150/538 - Train Accuracy: 0.7244, Validation Accuracy: 0.7028, Loss: 0.3993\n",
      "Epoch  10 Batch  200/538 - Train Accuracy: 0.7510, Validation Accuracy: 0.7209, Loss: 0.3800\n",
      "Epoch  10 Batch  250/538 - Train Accuracy: 0.7518, Validation Accuracy: 0.7218, Loss: 0.3962\n",
      "Epoch  10 Batch  300/538 - Train Accuracy: 0.7377, Validation Accuracy: 0.7136, Loss: 0.3815\n",
      "Epoch  10 Batch  350/538 - Train Accuracy: 0.7621, Validation Accuracy: 0.7282, Loss: 0.4007\n",
      "Epoch  10 Batch  400/538 - Train Accuracy: 0.7310, Validation Accuracy: 0.7415, Loss: 0.3815\n",
      "Epoch  10 Batch  450/538 - Train Accuracy: 0.7582, Validation Accuracy: 0.7207, Loss: 0.3953\n",
      "Epoch  10 Batch  500/538 - Train Accuracy: 0.7695, Validation Accuracy: 0.7349, Loss: 0.3507\n",
      "Epoch  11 Batch   50/538 - Train Accuracy: 0.7551, Validation Accuracy: 0.7276, Loss: 0.3759\n",
      "Epoch  11 Batch  100/538 - Train Accuracy: 0.7432, Validation Accuracy: 0.7264, Loss: 0.3662\n",
      "Epoch  11 Batch  150/538 - Train Accuracy: 0.7488, Validation Accuracy: 0.7232, Loss: 0.3657\n",
      "Epoch  11 Batch  200/538 - Train Accuracy: 0.7664, Validation Accuracy: 0.7370, Loss: 0.3573\n",
      "Epoch  11 Batch  250/538 - Train Accuracy: 0.7725, Validation Accuracy: 0.7402, Loss: 0.3623\n",
      "Epoch  11 Batch  300/538 - Train Accuracy: 0.7571, Validation Accuracy: 0.7294, Loss: 0.3593\n",
      "Epoch  11 Batch  350/538 - Train Accuracy: 0.7729, Validation Accuracy: 0.7548, Loss: 0.3770\n",
      "Epoch  11 Batch  400/538 - Train Accuracy: 0.7595, Validation Accuracy: 0.7511, Loss: 0.3607\n",
      "Epoch  11 Batch  450/538 - Train Accuracy: 0.7699, Validation Accuracy: 0.7443, Loss: 0.3664\n",
      "Epoch  11 Batch  500/538 - Train Accuracy: 0.7852, Validation Accuracy: 0.7615, Loss: 0.3167\n",
      "Epoch  12 Batch   50/538 - Train Accuracy: 0.7869, Validation Accuracy: 0.7694, Loss: 0.3447\n",
      "Epoch  12 Batch  100/538 - Train Accuracy: 0.7771, Validation Accuracy: 0.7525, Loss: 0.3353\n",
      "Epoch  12 Batch  150/538 - Train Accuracy: 0.7766, Validation Accuracy: 0.7523, Loss: 0.3386\n",
      "Epoch  12 Batch  200/538 - Train Accuracy: 0.7869, Validation Accuracy: 0.7662, Loss: 0.3238\n",
      "Epoch  12 Batch  250/538 - Train Accuracy: 0.7957, Validation Accuracy: 0.7603, Loss: 0.3346\n",
      "Epoch  12 Batch  300/538 - Train Accuracy: 0.8051, Validation Accuracy: 0.7651, Loss: 0.3274\n",
      "Epoch  12 Batch  350/538 - Train Accuracy: 0.7999, Validation Accuracy: 0.7820, Loss: 0.3468\n",
      "Epoch  12 Batch  400/538 - Train Accuracy: 0.7974, Validation Accuracy: 0.7855, Loss: 0.3383\n",
      "Epoch  12 Batch  450/538 - Train Accuracy: 0.7928, Validation Accuracy: 0.7750, Loss: 0.3405\n",
      "Epoch  12 Batch  500/538 - Train Accuracy: 0.8155, Validation Accuracy: 0.7800, Loss: 0.2978\n",
      "Epoch  13 Batch   50/538 - Train Accuracy: 0.7906, Validation Accuracy: 0.7846, Loss: 0.3216\n",
      "Epoch  13 Batch  100/538 - Train Accuracy: 0.8141, Validation Accuracy: 0.7903, Loss: 0.3042\n",
      "Epoch  13 Batch  150/538 - Train Accuracy: 0.8045, Validation Accuracy: 0.7898, Loss: 0.3073\n",
      "Epoch  13 Batch  200/538 - Train Accuracy: 0.8035, Validation Accuracy: 0.7915, Loss: 0.2981\n",
      "Epoch  13 Batch  250/538 - Train Accuracy: 0.8326, Validation Accuracy: 0.7898, Loss: 0.3084\n",
      "Epoch  13 Batch  300/538 - Train Accuracy: 0.8199, Validation Accuracy: 0.7894, Loss: 0.2963\n",
      "Epoch  13 Batch  350/538 - Train Accuracy: 0.8064, Validation Accuracy: 0.7903, Loss: 0.3256\n",
      "Epoch  13 Batch  400/538 - Train Accuracy: 0.8060, Validation Accuracy: 0.8038, Loss: 0.3073\n",
      "Epoch  13 Batch  450/538 - Train Accuracy: 0.8259, Validation Accuracy: 0.7958, Loss: 0.3105\n",
      "Epoch  13 Batch  500/538 - Train Accuracy: 0.8290, Validation Accuracy: 0.8109, Loss: 0.2779\n",
      "Epoch  14 Batch   50/538 - Train Accuracy: 0.8145, Validation Accuracy: 0.8116, Loss: 0.2924\n",
      "Epoch  14 Batch  100/538 - Train Accuracy: 0.8248, Validation Accuracy: 0.7963, Loss: 0.2868\n",
      "Epoch  14 Batch  150/538 - Train Accuracy: 0.8096, Validation Accuracy: 0.8045, Loss: 0.2896\n",
      "Epoch  14 Batch  200/538 - Train Accuracy: 0.8246, Validation Accuracy: 0.8058, Loss: 0.2801\n",
      "Epoch  14 Batch  250/538 - Train Accuracy: 0.8432, Validation Accuracy: 0.8049, Loss: 0.2774\n",
      "Epoch  14 Batch  300/538 - Train Accuracy: 0.8462, Validation Accuracy: 0.8129, Loss: 0.2848\n",
      "Epoch  14 Batch  350/538 - Train Accuracy: 0.8194, Validation Accuracy: 0.8290, Loss: 0.3024\n",
      "Epoch  14 Batch  400/538 - Train Accuracy: 0.8220, Validation Accuracy: 0.8228, Loss: 0.2887\n",
      "Epoch  14 Batch  450/538 - Train Accuracy: 0.8266, Validation Accuracy: 0.8159, Loss: 0.2991\n",
      "Epoch  14 Batch  500/538 - Train Accuracy: 0.8484, Validation Accuracy: 0.8287, Loss: 0.2481\n",
      "Epoch  15 Batch   50/538 - Train Accuracy: 0.8320, Validation Accuracy: 0.8207, Loss: 0.2720\n",
      "Epoch  15 Batch  100/538 - Train Accuracy: 0.8387, Validation Accuracy: 0.8248, Loss: 0.2661\n",
      "Epoch  15 Batch  150/538 - Train Accuracy: 0.8295, Validation Accuracy: 0.8200, Loss: 0.2755\n",
      "Epoch  15 Batch  200/538 - Train Accuracy: 0.8396, Validation Accuracy: 0.8109, Loss: 0.2690\n",
      "Epoch  15 Batch  250/538 - Train Accuracy: 0.8467, Validation Accuracy: 0.8200, Loss: 0.2634\n",
      "Epoch  15 Batch  300/538 - Train Accuracy: 0.8506, Validation Accuracy: 0.8125, Loss: 0.2543\n",
      "Epoch  15 Batch  350/538 - Train Accuracy: 0.8315, Validation Accuracy: 0.8285, Loss: 0.2797\n",
      "Epoch  15 Batch  400/538 - Train Accuracy: 0.8346, Validation Accuracy: 0.8350, Loss: 0.2783\n",
      "Epoch  15 Batch  450/538 - Train Accuracy: 0.8376, Validation Accuracy: 0.8191, Loss: 0.2807\n",
      "Epoch  15 Batch  500/538 - Train Accuracy: 0.8546, Validation Accuracy: 0.8232, Loss: 0.2382\n",
      "Epoch  16 Batch   50/538 - Train Accuracy: 0.8342, Validation Accuracy: 0.8327, Loss: 0.2636\n",
      "Epoch  16 Batch  100/538 - Train Accuracy: 0.8459, Validation Accuracy: 0.8292, Loss: 0.2552\n",
      "Epoch  16 Batch  150/538 - Train Accuracy: 0.8529, Validation Accuracy: 0.8377, Loss: 0.2614\n",
      "Epoch  16 Batch  200/538 - Train Accuracy: 0.8426, Validation Accuracy: 0.8221, Loss: 0.2404\n",
      "Epoch  16 Batch  250/538 - Train Accuracy: 0.8656, Validation Accuracy: 0.8249, Loss: 0.2523\n",
      "Epoch  16 Batch  300/538 - Train Accuracy: 0.8659, Validation Accuracy: 0.8345, Loss: 0.2518\n",
      "Epoch  16 Batch  350/538 - Train Accuracy: 0.8346, Validation Accuracy: 0.8216, Loss: 0.2636\n",
      "Epoch  16 Batch  400/538 - Train Accuracy: 0.8516, Validation Accuracy: 0.8230, Loss: 0.2489\n",
      "Epoch  16 Batch  450/538 - Train Accuracy: 0.8475, Validation Accuracy: 0.8343, Loss: 0.2607\n",
      "Epoch  16 Batch  500/538 - Train Accuracy: 0.8668, Validation Accuracy: 0.8368, Loss: 0.2306\n",
      "Epoch  17 Batch   50/538 - Train Accuracy: 0.8537, Validation Accuracy: 0.8303, Loss: 0.2445\n",
      "Epoch  17 Batch  100/538 - Train Accuracy: 0.8604, Validation Accuracy: 0.8427, Loss: 0.2406\n",
      "Epoch  17 Batch  150/538 - Train Accuracy: 0.8682, Validation Accuracy: 0.8368, Loss: 0.2407\n",
      "Epoch  17 Batch  200/538 - Train Accuracy: 0.8436, Validation Accuracy: 0.8272, Loss: 0.2276\n",
      "Epoch  17 Batch  250/538 - Train Accuracy: 0.8807, Validation Accuracy: 0.8381, Loss: 0.2354\n",
      "Epoch  17 Batch  300/538 - Train Accuracy: 0.8769, Validation Accuracy: 0.8320, Loss: 0.2347\n",
      "Epoch  17 Batch  350/538 - Train Accuracy: 0.8527, Validation Accuracy: 0.8485, Loss: 0.2518\n",
      "Epoch  17 Batch  400/538 - Train Accuracy: 0.8631, Validation Accuracy: 0.8581, Loss: 0.2330\n"
     ]
    },
    {
     "name": "stdout",
     "output_type": "stream",
     "text": [
      "Epoch  17 Batch  450/538 - Train Accuracy: 0.8657, Validation Accuracy: 0.8432, Loss: 0.2477\n",
      "Epoch  17 Batch  500/538 - Train Accuracy: 0.8791, Validation Accuracy: 0.8562, Loss: 0.2087\n",
      "Epoch  18 Batch   50/538 - Train Accuracy: 0.8660, Validation Accuracy: 0.8469, Loss: 0.2393\n",
      "Epoch  18 Batch  100/538 - Train Accuracy: 0.8877, Validation Accuracy: 0.8420, Loss: 0.2218\n",
      "Epoch  18 Batch  150/538 - Train Accuracy: 0.8715, Validation Accuracy: 0.8509, Loss: 0.2299\n",
      "Epoch  18 Batch  200/538 - Train Accuracy: 0.8678, Validation Accuracy: 0.8526, Loss: 0.2200\n",
      "Epoch  18 Batch  250/538 - Train Accuracy: 0.8873, Validation Accuracy: 0.8411, Loss: 0.2294\n",
      "Epoch  18 Batch  300/538 - Train Accuracy: 0.8878, Validation Accuracy: 0.8521, Loss: 0.2217\n",
      "Epoch  18 Batch  350/538 - Train Accuracy: 0.8655, Validation Accuracy: 0.8507, Loss: 0.2448\n",
      "Epoch  18 Batch  400/538 - Train Accuracy: 0.8730, Validation Accuracy: 0.8487, Loss: 0.2325\n",
      "Epoch  18 Batch  450/538 - Train Accuracy: 0.8568, Validation Accuracy: 0.8562, Loss: 0.2400\n",
      "Epoch  18 Batch  500/538 - Train Accuracy: 0.8837, Validation Accuracy: 0.8438, Loss: 0.1935\n",
      "Epoch  19 Batch   50/538 - Train Accuracy: 0.8752, Validation Accuracy: 0.8498, Loss: 0.2171\n",
      "Epoch  19 Batch  100/538 - Train Accuracy: 0.9006, Validation Accuracy: 0.8590, Loss: 0.2110\n",
      "Epoch  19 Batch  150/538 - Train Accuracy: 0.8701, Validation Accuracy: 0.8597, Loss: 0.2183\n",
      "Epoch  19 Batch  200/538 - Train Accuracy: 0.8729, Validation Accuracy: 0.8546, Loss: 0.2089\n",
      "Epoch  19 Batch  250/538 - Train Accuracy: 0.8895, Validation Accuracy: 0.8537, Loss: 0.2110\n",
      "Epoch  19 Batch  300/538 - Train Accuracy: 0.8958, Validation Accuracy: 0.8535, Loss: 0.2264\n",
      "Epoch  19 Batch  350/538 - Train Accuracy: 0.8808, Validation Accuracy: 0.8569, Loss: 0.2279\n",
      "Epoch  19 Batch  400/538 - Train Accuracy: 0.8741, Validation Accuracy: 0.8585, Loss: 0.2165\n",
      "Epoch  19 Batch  450/538 - Train Accuracy: 0.8754, Validation Accuracy: 0.8672, Loss: 0.2290\n",
      "Epoch  19 Batch  500/538 - Train Accuracy: 0.9036, Validation Accuracy: 0.8537, Loss: 0.1896\n",
      "Epoch  20 Batch   50/538 - Train Accuracy: 0.8857, Validation Accuracy: 0.8517, Loss: 0.2062\n",
      "Epoch  20 Batch  100/538 - Train Accuracy: 0.8918, Validation Accuracy: 0.8469, Loss: 0.2049\n",
      "Epoch  20 Batch  150/538 - Train Accuracy: 0.8801, Validation Accuracy: 0.8539, Loss: 0.2045\n",
      "Epoch  20 Batch  200/538 - Train Accuracy: 0.8775, Validation Accuracy: 0.8548, Loss: 0.2033\n",
      "Epoch  20 Batch  250/538 - Train Accuracy: 0.8906, Validation Accuracy: 0.8684, Loss: 0.1976\n",
      "Epoch  20 Batch  300/538 - Train Accuracy: 0.9027, Validation Accuracy: 0.8679, Loss: 0.2066\n",
      "Epoch  20 Batch  350/538 - Train Accuracy: 0.8943, Validation Accuracy: 0.8656, Loss: 0.2184\n",
      "Epoch  20 Batch  400/538 - Train Accuracy: 0.8897, Validation Accuracy: 0.8695, Loss: 0.2051\n",
      "Epoch  20 Batch  450/538 - Train Accuracy: 0.8689, Validation Accuracy: 0.8620, Loss: 0.2137\n",
      "Epoch  20 Batch  500/538 - Train Accuracy: 0.9096, Validation Accuracy: 0.8548, Loss: 0.1774\n",
      "Epoch  21 Batch   50/538 - Train Accuracy: 0.8721, Validation Accuracy: 0.8608, Loss: 0.1938\n",
      "Epoch  21 Batch  100/538 - Train Accuracy: 0.9086, Validation Accuracy: 0.8564, Loss: 0.1888\n",
      "Epoch  21 Batch  150/538 - Train Accuracy: 0.8916, Validation Accuracy: 0.8627, Loss: 0.1921\n",
      "Epoch  21 Batch  200/538 - Train Accuracy: 0.8920, Validation Accuracy: 0.8596, Loss: 0.1963\n",
      "Epoch  21 Batch  250/538 - Train Accuracy: 0.9025, Validation Accuracy: 0.8564, Loss: 0.1946\n",
      "Epoch  21 Batch  300/538 - Train Accuracy: 0.9100, Validation Accuracy: 0.8683, Loss: 0.1875\n",
      "Epoch  21 Batch  350/538 - Train Accuracy: 0.9040, Validation Accuracy: 0.8651, Loss: 0.2046\n",
      "Epoch  21 Batch  400/538 - Train Accuracy: 0.8986, Validation Accuracy: 0.8622, Loss: 0.1876\n",
      "Epoch  21 Batch  450/538 - Train Accuracy: 0.8744, Validation Accuracy: 0.8738, Loss: 0.2055\n",
      "Epoch  21 Batch  500/538 - Train Accuracy: 0.9201, Validation Accuracy: 0.8699, Loss: 0.1609\n",
      "Epoch  22 Batch   50/538 - Train Accuracy: 0.8779, Validation Accuracy: 0.8555, Loss: 0.1890\n",
      "Epoch  22 Batch  100/538 - Train Accuracy: 0.9135, Validation Accuracy: 0.8617, Loss: 0.1739\n",
      "Epoch  22 Batch  150/538 - Train Accuracy: 0.8910, Validation Accuracy: 0.8713, Loss: 0.1873\n",
      "Epoch  22 Batch  200/538 - Train Accuracy: 0.9033, Validation Accuracy: 0.8700, Loss: 0.1784\n",
      "Epoch  22 Batch  250/538 - Train Accuracy: 0.9111, Validation Accuracy: 0.8732, Loss: 0.1817\n",
      "Epoch  22 Batch  300/538 - Train Accuracy: 0.9128, Validation Accuracy: 0.8752, Loss: 0.1825\n",
      "Epoch  22 Batch  350/538 - Train Accuracy: 0.8999, Validation Accuracy: 0.8704, Loss: 0.1963\n",
      "Epoch  22 Batch  400/538 - Train Accuracy: 0.8921, Validation Accuracy: 0.8716, Loss: 0.1892\n",
      "Epoch  22 Batch  450/538 - Train Accuracy: 0.8806, Validation Accuracy: 0.8837, Loss: 0.2038\n",
      "Epoch  22 Batch  500/538 - Train Accuracy: 0.9212, Validation Accuracy: 0.8746, Loss: 0.1525\n",
      "Epoch  23 Batch   50/538 - Train Accuracy: 0.8910, Validation Accuracy: 0.8606, Loss: 0.1693\n",
      "Epoch  23 Batch  100/538 - Train Accuracy: 0.9277, Validation Accuracy: 0.8793, Loss: 0.1727\n",
      "Epoch  23 Batch  150/538 - Train Accuracy: 0.9127, Validation Accuracy: 0.8787, Loss: 0.1651\n",
      "Epoch  23 Batch  200/538 - Train Accuracy: 0.9043, Validation Accuracy: 0.8759, Loss: 0.1618\n",
      "Epoch  23 Batch  250/538 - Train Accuracy: 0.9098, Validation Accuracy: 0.8665, Loss: 0.1665\n",
      "Epoch  23 Batch  300/538 - Train Accuracy: 0.9057, Validation Accuracy: 0.8770, Loss: 0.1786\n",
      "Epoch  23 Batch  350/538 - Train Accuracy: 0.9128, Validation Accuracy: 0.8649, Loss: 0.1861\n",
      "Epoch  23 Batch  400/538 - Train Accuracy: 0.8942, Validation Accuracy: 0.8656, Loss: 0.1778\n",
      "Epoch  23 Batch  450/538 - Train Accuracy: 0.8921, Validation Accuracy: 0.8754, Loss: 0.1874\n",
      "Epoch  23 Batch  500/538 - Train Accuracy: 0.9228, Validation Accuracy: 0.8699, Loss: 0.1453\n",
      "Epoch  24 Batch   50/538 - Train Accuracy: 0.8824, Validation Accuracy: 0.8734, Loss: 0.1674\n",
      "Epoch  24 Batch  100/538 - Train Accuracy: 0.9268, Validation Accuracy: 0.8786, Loss: 0.1609\n",
      "Epoch  24 Batch  150/538 - Train Accuracy: 0.9074, Validation Accuracy: 0.8897, Loss: 0.1686\n",
      "Epoch  24 Batch  200/538 - Train Accuracy: 0.9113, Validation Accuracy: 0.8778, Loss: 0.1541\n",
      "Epoch  24 Batch  250/538 - Train Accuracy: 0.9062, Validation Accuracy: 0.8713, Loss: 0.1650\n",
      "Epoch  24 Batch  300/538 - Train Accuracy: 0.9051, Validation Accuracy: 0.8846, Loss: 0.1665\n",
      "Epoch  24 Batch  350/538 - Train Accuracy: 0.9172, Validation Accuracy: 0.8929, Loss: 0.1781\n",
      "Epoch  24 Batch  400/538 - Train Accuracy: 0.9193, Validation Accuracy: 0.8837, Loss: 0.1592\n",
      "Epoch  24 Batch  450/538 - Train Accuracy: 0.8850, Validation Accuracy: 0.8778, Loss: 0.1776\n",
      "Epoch  24 Batch  500/538 - Train Accuracy: 0.9183, Validation Accuracy: 0.8823, Loss: 0.1404\n",
      "Epoch  25 Batch   50/538 - Train Accuracy: 0.8920, Validation Accuracy: 0.8816, Loss: 0.1564\n",
      "Epoch  25 Batch  100/538 - Train Accuracy: 0.9248, Validation Accuracy: 0.8817, Loss: 0.1519\n",
      "Epoch  25 Batch  150/538 - Train Accuracy: 0.9154, Validation Accuracy: 0.8874, Loss: 0.1563\n",
      "Epoch  25 Batch  200/538 - Train Accuracy: 0.9232, Validation Accuracy: 0.8894, Loss: 0.1381\n",
      "Epoch  25 Batch  250/538 - Train Accuracy: 0.9209, Validation Accuracy: 0.8880, Loss: 0.1637\n",
      "Epoch  25 Batch  300/538 - Train Accuracy: 0.9113, Validation Accuracy: 0.8903, Loss: 0.1605\n",
      "Epoch  25 Batch  350/538 - Train Accuracy: 0.9135, Validation Accuracy: 0.8935, Loss: 0.1652\n",
      "Epoch  25 Batch  400/538 - Train Accuracy: 0.9193, Validation Accuracy: 0.8842, Loss: 0.1626\n",
      "Epoch  25 Batch  450/538 - Train Accuracy: 0.8856, Validation Accuracy: 0.8928, Loss: 0.1686\n",
      "Epoch  25 Batch  500/538 - Train Accuracy: 0.9242, Validation Accuracy: 0.9038, Loss: 0.1296\n",
      "Epoch  26 Batch   50/538 - Train Accuracy: 0.8891, Validation Accuracy: 0.8910, Loss: 0.1556\n",
      "Epoch  26 Batch  100/538 - Train Accuracy: 0.9270, Validation Accuracy: 0.8991, Loss: 0.1427\n",
      "Epoch  26 Batch  150/538 - Train Accuracy: 0.9244, Validation Accuracy: 0.8979, Loss: 0.1516\n",
      "Epoch  26 Batch  200/538 - Train Accuracy: 0.9275, Validation Accuracy: 0.8954, Loss: 0.1473\n",
      "Epoch  26 Batch  250/538 - Train Accuracy: 0.9258, Validation Accuracy: 0.8990, Loss: 0.1515\n",
      "Epoch  26 Batch  300/538 - Train Accuracy: 0.9092, Validation Accuracy: 0.9022, Loss: 0.1500\n",
      "Epoch  26 Batch  350/538 - Train Accuracy: 0.9245, Validation Accuracy: 0.9059, Loss: 0.1565\n"
     ]
    },
    {
     "name": "stdout",
     "output_type": "stream",
     "text": [
      "Epoch  26 Batch  400/538 - Train Accuracy: 0.9156, Validation Accuracy: 0.8904, Loss: 0.1470\n",
      "Epoch  26 Batch  450/538 - Train Accuracy: 0.8850, Validation Accuracy: 0.8997, Loss: 0.1658\n",
      "Epoch  26 Batch  500/538 - Train Accuracy: 0.9480, Validation Accuracy: 0.9015, Loss: 0.1200\n",
      "Epoch  27 Batch   50/538 - Train Accuracy: 0.8992, Validation Accuracy: 0.8979, Loss: 0.1333\n",
      "Epoch  27 Batch  100/538 - Train Accuracy: 0.9324, Validation Accuracy: 0.9064, Loss: 0.1304\n",
      "Epoch  27 Batch  150/538 - Train Accuracy: 0.9289, Validation Accuracy: 0.8993, Loss: 0.1412\n",
      "Epoch  27 Batch  200/538 - Train Accuracy: 0.9279, Validation Accuracy: 0.9071, Loss: 0.1328\n",
      "Epoch  27 Batch  250/538 - Train Accuracy: 0.9184, Validation Accuracy: 0.9004, Loss: 0.1435\n",
      "Epoch  27 Batch  300/538 - Train Accuracy: 0.9180, Validation Accuracy: 0.8991, Loss: 0.1507\n",
      "Epoch  27 Batch  350/538 - Train Accuracy: 0.9243, Validation Accuracy: 0.9059, Loss: 0.1592\n",
      "Epoch  27 Batch  400/538 - Train Accuracy: 0.9276, Validation Accuracy: 0.9045, Loss: 0.1501\n",
      "Epoch  27 Batch  450/538 - Train Accuracy: 0.8847, Validation Accuracy: 0.9141, Loss: 0.1664\n",
      "Epoch  27 Batch  500/538 - Train Accuracy: 0.9377, Validation Accuracy: 0.9150, Loss: 0.1227\n",
      "Epoch  28 Batch   50/538 - Train Accuracy: 0.9055, Validation Accuracy: 0.9178, Loss: 0.1426\n",
      "Epoch  28 Batch  100/538 - Train Accuracy: 0.9402, Validation Accuracy: 0.9016, Loss: 0.1365\n",
      "Epoch  28 Batch  150/538 - Train Accuracy: 0.9340, Validation Accuracy: 0.9039, Loss: 0.1385\n",
      "Epoch  28 Batch  200/538 - Train Accuracy: 0.9303, Validation Accuracy: 0.8997, Loss: 0.1378\n",
      "Epoch  28 Batch  250/538 - Train Accuracy: 0.9225, Validation Accuracy: 0.9100, Loss: 0.1421\n",
      "Epoch  28 Batch  300/538 - Train Accuracy: 0.9273, Validation Accuracy: 0.8999, Loss: 0.1422\n",
      "Epoch  28 Batch  350/538 - Train Accuracy: 0.9314, Validation Accuracy: 0.9116, Loss: 0.1524\n",
      "Epoch  28 Batch  400/538 - Train Accuracy: 0.9323, Validation Accuracy: 0.8928, Loss: 0.1425\n",
      "Epoch  28 Batch  450/538 - Train Accuracy: 0.8929, Validation Accuracy: 0.9094, Loss: 0.1586\n",
      "Epoch  28 Batch  500/538 - Train Accuracy: 0.9336, Validation Accuracy: 0.9132, Loss: 0.1158\n",
      "Epoch  29 Batch   50/538 - Train Accuracy: 0.9092, Validation Accuracy: 0.9192, Loss: 0.1320\n",
      "Epoch  29 Batch  100/538 - Train Accuracy: 0.9363, Validation Accuracy: 0.9087, Loss: 0.1324\n",
      "Epoch  29 Batch  150/538 - Train Accuracy: 0.9355, Validation Accuracy: 0.9039, Loss: 0.1303\n",
      "Epoch  29 Batch  200/538 - Train Accuracy: 0.9369, Validation Accuracy: 0.9114, Loss: 0.1255\n",
      "Epoch  29 Batch  250/538 - Train Accuracy: 0.9387, Validation Accuracy: 0.9141, Loss: 0.1342\n",
      "Epoch  29 Batch  300/538 - Train Accuracy: 0.9260, Validation Accuracy: 0.9114, Loss: 0.1404\n",
      "Epoch  29 Batch  350/538 - Train Accuracy: 0.9245, Validation Accuracy: 0.9162, Loss: 0.1457\n",
      "Epoch  29 Batch  400/538 - Train Accuracy: 0.9408, Validation Accuracy: 0.9043, Loss: 0.1324\n",
      "Epoch  29 Batch  450/538 - Train Accuracy: 0.8942, Validation Accuracy: 0.9155, Loss: 0.1590\n",
      "Epoch  29 Batch  500/538 - Train Accuracy: 0.9457, Validation Accuracy: 0.9094, Loss: 0.1112\n",
      "Model Trained and Saved\n"
     ]
    }
   ],
   "source": [
    "\"\"\"\n",
    "DON'T MODIFY ANYTHING IN THIS CELL\n",
    "\"\"\"\n",
    "def get_accuracy(target, logits):\n",
    "    \"\"\"\n",
    "    Calculate accuracy\n",
    "    \"\"\"\n",
    "    max_seq = max(target.shape[1], logits.shape[1])\n",
    "    if max_seq - target.shape[1]:\n",
    "        target = np.pad(\n",
    "            target,\n",
    "            [(0,0),(0,max_seq - target.shape[1])],\n",
    "            'constant')\n",
    "    if max_seq - logits.shape[1]:\n",
    "        logits = np.pad(\n",
    "            logits,\n",
    "            [(0,0),(0,max_seq - logits.shape[1])],\n",
    "            'constant')\n",
    "\n",
    "    return np.mean(np.equal(target, logits))\n",
    "\n",
    "# Split data to training and validation sets\n",
    "train_source = source_int_text[batch_size:]\n",
    "train_target = target_int_text[batch_size:]\n",
    "valid_source = source_int_text[:batch_size]\n",
    "valid_target = target_int_text[:batch_size]\n",
    "(valid_sources_batch, valid_targets_batch, valid_sources_lengths, valid_targets_lengths ) = next(get_batches(valid_source,\n",
    "                                                                                                             valid_target,\n",
    "                                                                                                             batch_size,\n",
    "                                                                                                             source_vocab_to_int['<PAD>'],\n",
    "                                                                                                             target_vocab_to_int['<PAD>']))                                                                                                  \n",
    "with tf.Session(graph=train_graph) as sess:\n",
    "    sess.run(tf.global_variables_initializer())\n",
    "\n",
    "    for epoch_i in range(epochs):\n",
    "        for batch_i, (source_batch, target_batch, sources_lengths, targets_lengths) in enumerate(\n",
    "                get_batches(train_source, train_target, batch_size,\n",
    "                            source_vocab_to_int['<PAD>'],\n",
    "                            target_vocab_to_int['<PAD>'])):\n",
    "\n",
    "            _, loss = sess.run(\n",
    "                [train_op, cost],\n",
    "                {input_data: source_batch,\n",
    "                 targets: target_batch,\n",
    "                 lr: learning_rate,\n",
    "                 target_sequence_length: targets_lengths,\n",
    "                 source_sequence_length: sources_lengths,\n",
    "                 keep_prob: keep_probability})\n",
    "\n",
    "\n",
    "            if batch_i % display_step == 0 and batch_i > 0:\n",
    "\n",
    "\n",
    "                batch_train_logits = sess.run(\n",
    "                    inference_logits,\n",
    "                    {input_data: source_batch,\n",
    "                     source_sequence_length: sources_lengths,\n",
    "                     target_sequence_length: targets_lengths,\n",
    "                     keep_prob: 1.0})\n",
    "\n",
    "\n",
    "                batch_valid_logits = sess.run(\n",
    "                    inference_logits,\n",
    "                    {input_data: valid_sources_batch,\n",
    "                     source_sequence_length: valid_sources_lengths,\n",
    "                     target_sequence_length: valid_targets_lengths,\n",
    "                     keep_prob: 1.0})\n",
    "\n",
    "                train_acc = get_accuracy(target_batch, batch_train_logits)\n",
    "\n",
    "                valid_acc = get_accuracy(valid_targets_batch, batch_valid_logits)\n",
    "\n",
    "                print('Epoch {:>3} Batch {:>4}/{} - Train Accuracy: {:>6.4f}, Validation Accuracy: {:>6.4f}, Loss: {:>6.4f}'\n",
    "                      .format(epoch_i, batch_i, len(source_int_text) // batch_size, train_acc, valid_acc, loss))\n",
    "\n",
    "    # Save Model\n",
    "    saver = tf.train.Saver()\n",
    "    saver.save(sess, save_path)\n",
    "    print('Model Trained and Saved')"
   ]
  },
  {
   "cell_type": "markdown",
   "metadata": {},
   "source": [
    "### Save Parameters\n",
    "Save the `batch_size` and `save_path` parameters for inference."
   ]
  },
  {
   "cell_type": "code",
   "execution_count": 90,
   "metadata": {
    "collapsed": true
   },
   "outputs": [],
   "source": [
    "\"\"\"\n",
    "DON'T MODIFY ANYTHING IN THIS CELL\n",
    "\"\"\"\n",
    "# Save parameters for checkpoint\n",
    "helper.save_params(save_path)"
   ]
  },
  {
   "cell_type": "markdown",
   "metadata": {},
   "source": [
    "# Checkpoint"
   ]
  },
  {
   "cell_type": "code",
   "execution_count": 91,
   "metadata": {
    "collapsed": true
   },
   "outputs": [],
   "source": [
    "\"\"\"\n",
    "DON'T MODIFY ANYTHING IN THIS CELL\n",
    "\"\"\"\n",
    "import tensorflow as tf\n",
    "import numpy as np\n",
    "import helper\n",
    "import problem_unittests as tests\n",
    "\n",
    "_, (source_vocab_to_int, target_vocab_to_int), (source_int_to_vocab, target_int_to_vocab) = helper.load_preprocess()\n",
    "load_path = helper.load_params()"
   ]
  },
  {
   "cell_type": "markdown",
   "metadata": {},
   "source": [
    "## Sentence to Sequence\n",
    "To feed a sentence into the model for translation, you first need to preprocess it.  Implement the function `sentence_to_seq()` to preprocess new sentences.\n",
    "\n",
    "- Convert the sentence to lowercase\n",
    "- Convert words into ids using `vocab_to_int`\n",
    " - Convert words not in the vocabulary, to the `<UNK>` word id."
   ]
  },
  {
   "cell_type": "code",
   "execution_count": 92,
   "metadata": {},
   "outputs": [
    {
     "name": "stdout",
     "output_type": "stream",
     "text": [
      "Tests Passed\n"
     ]
    }
   ],
   "source": [
    "def sentence_to_seq(sentence, vocab_to_int):\n",
    "    \"\"\"\n",
    "    Convert a sentence to a sequence of ids\n",
    "    :param sentence: String\n",
    "    :param vocab_to_int: Dictionary to go from the words to an id\n",
    "    :return: List of word ids\n",
    "    \"\"\"\n",
    "    # TODO: Implement Function\n",
    "    word_ids = []\n",
    "    words = sentence.split()\n",
    "    for word in words:\n",
    "        if word not in vocab_to_int:\n",
    "            word_ids.append(vocab_to_int['<UNK>'])\n",
    "        else:\n",
    "            word_ids.append(vocab_to_int[word])\n",
    "    return word_ids\n",
    "\n",
    "\n",
    "\"\"\"\n",
    "DON'T MODIFY ANYTHING IN THIS CELL THAT IS BELOW THIS LINE\n",
    "\"\"\"\n",
    "tests.test_sentence_to_seq(sentence_to_seq)"
   ]
  },
  {
   "cell_type": "markdown",
   "metadata": {},
   "source": [
    "## Translate\n",
    "This will translate `translate_sentence` from English to French."
   ]
  },
  {
   "cell_type": "code",
   "execution_count": 93,
   "metadata": {},
   "outputs": [
    {
     "name": "stdout",
     "output_type": "stream",
     "text": [
      "INFO:tensorflow:Restoring parameters from checkpoints/dev\n",
      "Input\n",
      "  Word Ids:      [203, 106, 162, 215, 15, 16, 36]\n",
      "  English Words: ['he', 'saw', 'a', 'old', 'yellow', 'truck', '.']\n",
      "\n",
      "Prediction\n",
      "  Word Ids:      [81, 151, 15, 233, 168, 331, 18, 1]\n",
      "  French Words: il a vu un camion rouge . <EOS>\n"
     ]
    }
   ],
   "source": [
    "translate_sentence = 'he saw a old yellow truck .'\n",
    "\n",
    "\n",
    "\"\"\"\n",
    "DON'T MODIFY ANYTHING IN THIS CELL\n",
    "\"\"\"\n",
    "translate_sentence = sentence_to_seq(translate_sentence, source_vocab_to_int)\n",
    "\n",
    "loaded_graph = tf.Graph()\n",
    "with tf.Session(graph=loaded_graph) as sess:\n",
    "    # Load saved model\n",
    "    loader = tf.train.import_meta_graph(load_path + '.meta')\n",
    "    loader.restore(sess, load_path)\n",
    "\n",
    "    input_data = loaded_graph.get_tensor_by_name('input:0')\n",
    "    logits = loaded_graph.get_tensor_by_name('predictions:0')\n",
    "    target_sequence_length = loaded_graph.get_tensor_by_name('target_sequence_length:0')\n",
    "    source_sequence_length = loaded_graph.get_tensor_by_name('source_sequence_length:0')\n",
    "    keep_prob = loaded_graph.get_tensor_by_name('keep_prob:0')\n",
    "\n",
    "    translate_logits = sess.run(logits, {input_data: [translate_sentence]*batch_size,\n",
    "                                         target_sequence_length: [len(translate_sentence)*2]*batch_size,\n",
    "                                         source_sequence_length: [len(translate_sentence)]*batch_size,\n",
    "                                         keep_prob: 1.0})[0]\n",
    "\n",
    "print('Input')\n",
    "print('  Word Ids:      {}'.format([i for i in translate_sentence]))\n",
    "print('  English Words: {}'.format([source_int_to_vocab[i] for i in translate_sentence]))\n",
    "\n",
    "print('\\nPrediction')\n",
    "print('  Word Ids:      {}'.format([i for i in translate_logits]))\n",
    "print('  French Words: {}'.format(\" \".join([target_int_to_vocab[i] for i in translate_logits])))\n"
   ]
  },
  {
   "cell_type": "markdown",
   "metadata": {},
   "source": [
    "## Imperfect Translation\n",
    "You might notice that some sentences translate better than others.  Since the dataset you're using only has a vocabulary of 227 English words of the thousands that you use, you're only going to see good results using these words.  For this project, you don't need a perfect translation. However, if you want to create a better translation model, you'll need better data.\n",
    "\n",
    "You can train on the [WMT10 French-English corpus](http://www.statmt.org/wmt10/training-giga-fren.tar).  This dataset has more vocabulary and richer in topics discussed.  However, this will take you days to train, so make sure you've a GPU and the neural network is performing well on dataset we provided.  Just make sure you play with the WMT10 corpus after you've submitted this project.\n",
    "## Submitting This Project\n",
    "When submitting this project, make sure to run all the cells before saving the notebook. Save the notebook file as \"dlnd_language_translation.ipynb\" and save it as a HTML file under \"File\" -> \"Download as\". Include the \"helper.py\" and \"problem_unittests.py\" files in your submission."
   ]
  },
  {
   "cell_type": "code",
   "execution_count": null,
   "metadata": {
    "collapsed": true
   },
   "outputs": [],
   "source": []
  }
 ],
 "metadata": {
  "anaconda-cloud": {},
  "kernelspec": {
   "display_name": "Python 3",
   "language": "python",
   "name": "python3"
  },
  "language_info": {
   "codemirror_mode": {
    "name": "ipython",
    "version": 3
   },
   "file_extension": ".py",
   "mimetype": "text/x-python",
   "name": "python",
   "nbconvert_exporter": "python",
   "pygments_lexer": "ipython3",
   "version": "3.5.3"
  }
 },
 "nbformat": 4,
 "nbformat_minor": 1
}
